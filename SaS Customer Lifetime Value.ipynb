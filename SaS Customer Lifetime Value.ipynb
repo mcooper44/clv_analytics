{
 "cells": [
  {
   "cell_type": "code",
   "execution_count": null,
   "id": "0fd79e72",
   "metadata": {},
   "outputs": [],
   "source": [
    "import numpy as np\n",
    "import pandas as pd\n",
    "import matplotlib.pyplot as plt\n",
    "from datetime import timedelta\n",
    "import seaborn as sns"
   ]
  },
  {
   "cell_type": "code",
   "execution_count": null,
   "id": "0c9c9f0b",
   "metadata": {},
   "outputs": [],
   "source": [
    "import sklearn\n",
    "from sklearn.metrics import mean_absolute_percentage_error"
   ]
  },
  {
   "cell_type": "code",
   "execution_count": null,
   "id": "d86d21fc",
   "metadata": {},
   "outputs": [],
   "source": [
    "from lifetimes import BetaGeoFitter, GammaGammaFitter\n",
    "from lifetimes.utils import \\\n",
    "    calibration_and_holdout_data, \\\n",
    "    summary_data_from_transaction_data, \\\n",
    "    calculate_alive_path\n",
    "from lifetimes.plotting import \\\n",
    "    plot_frequency_recency_matrix, \\\n",
    "    plot_probability_alive_matrix, \\\n",
    "    plot_period_transactions, \\\n",
    "    plot_history_alive, \\\n",
    "    plot_cumulative_transactions, \\\n",
    "    plot_calibration_purchases_vs_holdout_purchases, \\\n",
    "    plot_transaction_rate_heterogeneity, \\\n",
    "    plot_dropout_rate_heterogeneity"
   ]
  },
  {
   "cell_type": "code",
   "execution_count": null,
   "id": "e5387291",
   "metadata": {},
   "outputs": [],
   "source": [
    "import warnings\n",
    "warnings.filterwarnings(\"ignore\")\n",
    "\n",
    "%matplotlib inline\n",
    "sns.set(rc={'image.cmap': 'coolwarm'})\n",
    "\n",
    "pd.set_option(\"display.precision\",2)\n",
    "np.set_printoptions(precision=2, suppress=True)\n",
    "pd.options.display.float_format = '{:,.0f}'.format"
   ]
  },
  {
   "cell_type": "code",
   "execution_count": null,
   "id": "b3b6897d",
   "metadata": {},
   "outputs": [],
   "source": [
    "sas = pd.read_csv('sas_clean.csv')"
   ]
  },
  {
   "cell_type": "code",
   "execution_count": null,
   "id": "350bdede",
   "metadata": {},
   "outputs": [],
   "source": [
    "#sas.describe()"
   ]
  },
  {
   "cell_type": "code",
   "execution_count": null,
   "id": "b439f77b",
   "metadata": {},
   "outputs": [],
   "source": [
    "#sas.info()"
   ]
  },
  {
   "cell_type": "markdown",
   "id": "75e8dd3b",
   "metadata": {},
   "source": [
    "### restrict and reformat key columns"
   ]
  },
  {
   "cell_type": "code",
   "execution_count": null,
   "id": "44780e86",
   "metadata": {
    "scrolled": true
   },
   "outputs": [],
   "source": [
    "# restrict to transactions with positive quantities\n",
    "sas = sas[sas[\"Revenues\"] > 0]\n",
    "\n",
    "# datetime to date format - remove the time component\n",
    "sas[\"InvoiceDate\"] = pd.to_datetime(sas[\"Order_Date\"]).dt.date #normalize()\n",
    "\n",
    "# treat CustomerID as a categorical str variable\n",
    "sas[\"Name\"] = sas[\"Name\"].astype(object)"
   ]
  },
  {
   "cell_type": "code",
   "execution_count": null,
   "id": "5e2ceaf1",
   "metadata": {},
   "outputs": [],
   "source": [
    "# review the categorical variables\n",
    "sas.describe(include='object').T"
   ]
  },
  {
   "cell_type": "markdown",
   "id": "35fba3a8",
   "metadata": {},
   "source": [
    "## Training and testing model fit"
   ]
  },
  {
   "cell_type": "code",
   "execution_count": null,
   "id": "8a86fc94",
   "metadata": {
    "scrolled": true
   },
   "outputs": [],
   "source": [
    "# train/test split (calibration/holdout)\n",
    "t_holdout = 240                                        # days to reserve for holdout period\n",
    "\n",
    "max_date = sas[\"InvoiceDate\"].max()                     # end date of observations\n",
    "print(\"end of observations:\", max_date)\n",
    "\n",
    "max_cal_date = max_date - timedelta(days=t_holdout)     # end date of chosen calibration period\n",
    "print(\"end of calibration period:\", max_cal_date)\n",
    "\n",
    "# reference material for this function\n",
    "# https://lifetimes.readthedocs.io/en/latest/lifetimes.html#module-lifetimes.utils\n",
    "df_ch = calibration_and_holdout_data(\n",
    "        transactions = sas, \n",
    "        customer_id_col = \"Billing Name\", \n",
    "        datetime_col = \"InvoiceDate\",\n",
    "        monetary_value_col = \"Revenues\", \n",
    "        calibration_period_end = max_cal_date, \n",
    "        observation_period_end = max_date, \n",
    "        freq = \"D\")  # ‘D’ for days.\n",
    "\n",
    "print(\"customer behavior in calibration and holdout periods\")\n",
    "pd.options.display.float_format = '{:,.0f}'.format\n",
    "df_ch"
   ]
  },
  {
   "cell_type": "code",
   "execution_count": null,
   "id": "681e0a60",
   "metadata": {},
   "outputs": [],
   "source": [
    "df_ch.describe()"
   ]
  },
  {
   "cell_type": "code",
   "execution_count": null,
   "id": "11e7b3cb",
   "metadata": {},
   "outputs": [],
   "source": [
    "# training: frequency\n",
    "pd.options.display.float_format = '{:,.3f}'.format\n",
    "x = df_ch[\"frequency_cal\"].value_counts(normalize=True)\n",
    "x = x.nlargest(15)\n",
    "print(\"frequency:\")\n",
    "x.sort_index(ascending=True)"
   ]
  },
  {
   "cell_type": "markdown",
   "id": "af7598bf",
   "metadata": {},
   "source": [
    "### visualize customer trends"
   ]
  },
  {
   "cell_type": "code",
   "execution_count": null,
   "id": "44553f93",
   "metadata": {},
   "outputs": [],
   "source": [
    "# training: axis length\n",
    "max_freq = df_ch[\"frequency_cal\"].quantile(0.98)\n",
    "max_rec = df_ch[\"recency_cal\"].max()\n",
    "max_T = df_ch[\"T_cal\"].max()"
   ]
  },
  {
   "cell_type": "code",
   "execution_count": null,
   "id": "45d69c6d",
   "metadata": {},
   "outputs": [],
   "source": [
    "# training\n",
    "fig = plt.figure(figsize=(8, 4)) \n",
    "ax = sns.distplot(df_ch[\"frequency_cal\"])\n",
    "ax.set_xlim(0, max_freq)\n",
    "ax.set_title(\"frequency (days): distribution of the customers\");"
   ]
  },
  {
   "cell_type": "code",
   "execution_count": null,
   "id": "fcc57a63",
   "metadata": {},
   "outputs": [],
   "source": [
    "# training\n",
    "fig = plt.figure(figsize=(8, 4)) \n",
    "ax = sns.distplot(df_ch[\"recency_cal\"])\n",
    "ax.set_xlim(0, max_rec)\n",
    "ax.set_title(\"recency (days): distribution of the customers\")"
   ]
  },
  {
   "cell_type": "code",
   "execution_count": null,
   "id": "43be334f",
   "metadata": {},
   "outputs": [],
   "source": [
    "# training\n",
    "fig = plt.figure(figsize=(8, 4)) \n",
    "ax = sns.distplot(df_ch[\"T_cal\"])\n",
    "ax.set_xlim(0, max_T)\n",
    "ax.set_title(\"customer age T (days): distribution of the customers\")"
   ]
  },
  {
   "cell_type": "markdown",
   "id": "61b52d93",
   "metadata": {},
   "source": [
    "## BG/NBD model training"
   ]
  },
  {
   "cell_type": "code",
   "execution_count": null,
   "id": "e1888395",
   "metadata": {},
   "outputs": [],
   "source": [
    "# training: BG/NBD model\n",
    "bgf = BetaGeoFitter(penalizer_coef=1e-06)\n",
    "bgf.fit(\n",
    "        frequency = df_ch[\"frequency_cal\"], \n",
    "        recency = df_ch[\"recency_cal\"], \n",
    "        T = df_ch[\"T_cal\"],   \n",
    "        weights = None,  \n",
    "        verbose = True,   \n",
    "        tol = 1e-06)"
   ]
  },
  {
   "cell_type": "code",
   "execution_count": null,
   "id": "503670b8",
   "metadata": {},
   "outputs": [],
   "source": [
    "# training: summary\n",
    "pd.options.display.float_format = '{:,.3f}'.format\n",
    "bgf.summary"
   ]
  },
  {
   "cell_type": "code",
   "execution_count": null,
   "id": "c3a7716c",
   "metadata": {},
   "outputs": [],
   "source": [
    "# training: does the model reflect the actual data closely enough?\n",
    "\n",
    "# frequency of repeat transactions: predicted vs actual\n",
    "fig = plt.figure(figsize=(12, 12))\n",
    "plot_period_transactions(bgf);"
   ]
  },
  {
   "cell_type": "code",
   "execution_count": null,
   "id": "73531fbf",
   "metadata": {},
   "outputs": [],
   "source": [
    "# testing: predicted vs actual purchases in holdout period\n",
    "fig = plt.figure(figsize=(7, 7)) \n",
    "plot_calibration_purchases_vs_holdout_purchases(bgf, df_ch);"
   ]
  },
  {
   "cell_type": "markdown",
   "id": "5bcdec69",
   "metadata": {},
   "source": [
    "# fitting model to the full dataset"
   ]
  },
  {
   "cell_type": "code",
   "execution_count": null,
   "id": "4d27fdf7",
   "metadata": {},
   "outputs": [],
   "source": [
    "# determine recency, frequency, T, monetary value for each customer\n",
    "df_rft = summary_data_from_transaction_data(\n",
    "    transactions = sas, \n",
    "    customer_id_col = \"Billing Name\", \n",
    "    datetime_col = \"InvoiceDate\", \n",
    "    monetary_value_col = \"Revenues\", \n",
    "    observation_period_end = max_date, \n",
    "    freq = \"D\")\n",
    "\n",
    "pd.options.display.float_format = '{:,.0f}'.format\n",
    "df_rft"
   ]
  },
  {
   "cell_type": "code",
   "execution_count": null,
   "id": "17eba469",
   "metadata": {},
   "outputs": [],
   "source": [
    "df_rft.describe()"
   ]
  },
  {
   "cell_type": "markdown",
   "id": "f4bcb002",
   "metadata": {},
   "source": [
    "The predictions made by the Beta Geometric / Negative Binomial Distribution model rely on the metrics of the RFM concept: recency, frequency, monetary value, and the so-called customer age or longevity.\n",
    "\n",
    "The RFM concept rests on the axiom that customers who have placed an order more recently, have purchased more frequently, and tend to spend more on their transactions are likely to be returning customers as well as the most valuable customers. While this sounds like a self-evident classification, the RFM concept provides the building blocks from which the BG/NBD model can derive its predictions. BG/NBD adds distributional assumptions to the RFM metrics.\n",
    "\n",
    "Recency: the number of time periods between a customer’s first and last (latest) transactions Frequency: the number of time periods, after the initial purchase, when the customer buys again Monetary Value: the average value of the customer’s transactions (revenues or profit per transaction)\n",
    "\n",
    "Additionally, Customer age T: the number of time periods since the customer’s first purchase"
   ]
  },
  {
   "cell_type": "code",
   "execution_count": null,
   "id": "e66624d9",
   "metadata": {},
   "outputs": [],
   "source": [
    "# BG/NBD model\n",
    "bgf = BetaGeoFitter(penalizer_coef=1e-06)\n",
    "bgf.fit(\n",
    "        frequency = df_rft[\"frequency\"], \n",
    "        recency = df_rft[\"recency\"], \n",
    "        T = df_rft[\"T\"],   \n",
    "        weights = None,  \n",
    "        verbose = True,   \n",
    "        tol = 1e-06)\n",
    "pd.options.display.float_format = '{:,.3f}'.format\n",
    "bgf.summary"
   ]
  },
  {
   "cell_type": "code",
   "execution_count": null,
   "id": "2012cfad",
   "metadata": {},
   "outputs": [],
   "source": [
    "#axis length\n",
    "max_freq = int(df_rft[\"frequency\"].max())  #quantile(0.95))          \n",
    "max_T = int(df_rft[\"T\"].max())                         \n",
    "max_rec = int(df_rft[\"recency\"].max())  \n",
    "print(f'Frequency: {max_freq} Max T: {max_T} Max recency {max_rec}')"
   ]
  },
  {
   "cell_type": "code",
   "execution_count": null,
   "id": "8d33d638",
   "metadata": {},
   "outputs": [],
   "source": [
    "# frequency of repeat transactions: predicted vs actual\n",
    "fig = plt.figure(figsize=(12, 12))\n",
    "plot_period_transactions(\n",
    "            model = bgf,  \n",
    "            max_frequency = 10);"
   ]
  },
  {
   "cell_type": "code",
   "execution_count": null,
   "id": "845fec93",
   "metadata": {},
   "outputs": [],
   "source": [
    "# helper function: plot expected number of future purchases a customer with \n",
    "#    frequency f and recency r will make in forecast period\n",
    "\n",
    "def plot_freq_rec(t):\n",
    "    fig = plt.figure(figsize=(7, 7)) \n",
    "    plot_frequency_recency_matrix(\n",
    "            model = bgf,   \n",
    "            T = t,  \n",
    "            max_frequency = max_freq,  \n",
    "            max_recency = max_rec);"
   ]
  },
  {
   "cell_type": "code",
   "execution_count": null,
   "id": "98bf04c4",
   "metadata": {},
   "outputs": [],
   "source": [
    "# call plotter function for different forecast periods:\n",
    "tFC = [10, 90]\n",
    "_ = [plot_freq_rec(t) for t in tFC]"
   ]
  },
  {
   "cell_type": "markdown",
   "id": "cc75dd53",
   "metadata": {},
   "source": [
    "### Customer Predictions"
   ]
  },
  {
   "cell_type": "code",
   "execution_count": null,
   "id": "fe123633",
   "metadata": {},
   "outputs": [],
   "source": [
    "# predict purchases for a selected customer for t days\n",
    "t = 30\n",
    "custID = '' #NB - NEEDS A VALUE\n",
    "\n",
    "df_rft_C = df_rft.loc[custID,:]\n",
    "predC = bgf.predict(    t, \n",
    "                        df_rft_C[\"frequency\"], \n",
    "                        df_rft_C[\"recency\"], \n",
    "                        df_rft_C[\"T\"])\n",
    "print(\"customer\", custID, \": expected number of purchases within\", t, \"days =\", f'{predC:.1f}')"
   ]
  },
  {
   "cell_type": "code",
   "execution_count": null,
   "id": "17f5bb03",
   "metadata": {
    "scrolled": true
   },
   "outputs": [],
   "source": [
    "# selected customer: transactions\n",
    "df1C = sas[sas[\"Billing Name\"] == custID]\n",
    "df1C.describe()"
   ]
  },
  {
   "cell_type": "code",
   "execution_count": null,
   "id": "f9531316",
   "metadata": {},
   "outputs": [],
   "source": [
    "# X selected customer: cumulative transactions\n",
    "max_date = sas[\"InvoiceDate\"].max()\n",
    "min_date = sas[\"InvoiceDate\"].min()\n",
    "span_days = (max_date - min_date).days\n",
    "print(span_days)\n",
    "\n",
    "fig = plt.figure(figsize=(7, 7)) \n",
    "plot_cumulative_transactions(\n",
    "            model = bgf,  \n",
    "            transactions = df1C, \n",
    "            datetime_col = \"InvoiceDate\",  \n",
    "            customer_id_col = \"Billing Name\",  \n",
    "            t = span_days,  \n",
    "            t_cal = span_days);"
   ]
  },
  {
   "cell_type": "code",
   "execution_count": null,
   "id": "54549c9b",
   "metadata": {},
   "outputs": [],
   "source": [
    "# helper function: predict each customer's purchases over next t days\n",
    "def predict_purch(df, t):\n",
    "        df[\"predict_purch_\" + str(t)] = \\\n",
    "                bgf.predict(\n",
    "                    t, \n",
    "                    df[\"frequency\"], \n",
    "                    df[\"recency\"], \n",
    "                    df[\"T\"])"
   ]
  },
  {
   "cell_type": "code",
   "execution_count": null,
   "id": "65928601",
   "metadata": {},
   "outputs": [],
   "source": [
    "# call helper function: predict each customer's purchases over multiple time periods\n",
    "t_FC = [10, 30, 60, 90]\n",
    "_ = [predict_purch(df_rft, t) for t in t_FC]\n",
    "pd.options.display.float_format = '{:,.1f}'.format\n",
    "print(\"predicted number of purchases for each customer over next t days:\")\n",
    "df_rft"
   ]
  },
  {
   "cell_type": "code",
   "execution_count": null,
   "id": "45aa9629",
   "metadata": {},
   "outputs": [],
   "source": [
    "# top 30 customers over next 30 days\n",
    "print(\"top 30 customers, by their predicted purchases over next 30 days\")\n",
    "df_rft.sort_values(by=\"predict_purch_30\", ascending=False).head(30)"
   ]
  },
  {
   "cell_type": "code",
   "execution_count": null,
   "id": "087f0454",
   "metadata": {},
   "outputs": [],
   "source": [
    "top_customer_name = '' #NB - NEEDS A VALUE\n",
    "# recency, frequency, T\n",
    "dfx = sas[sas[\"Billing Name\"] == top_customer_name]\n",
    "xmax_date = dfx[\"InvoiceDate\"].max()\n",
    "xmin_date = dfx[\"InvoiceDate\"].min()\n",
    "\n",
    "# recency:\n",
    "print(\"customer minimum date:\", xmin_date)\n",
    "print(\"customer maximum date:\", xmax_date)\n",
    "xrec = (xmax_date - xmin_date).days\n",
    "print(\"recency:\", xrec)                                    # recency = time span between first and last purchase\n",
    "\n",
    "# age T:\n",
    "xmaxall_date = sas[\"InvoiceDate\"].max()\n",
    "print(\"population maximum date:\", xmaxall_date)\n",
    "xage = (xmaxall_date - xmin_date).days                    # age T\n",
    "print(\"T:\", xage)\n",
    "\n",
    "# frequency:\n",
    "xfreq = len(dfx[dfx[\"Lineitem quantity\"] > 0].groupby(\"InvoiceDate\"))-1    # frequency: periods with repeat purchases\n",
    "print(\"frequency:\", xfreq)"
   ]
  },
  {
   "cell_type": "code",
   "execution_count": null,
   "id": "e3f78dbb",
   "metadata": {},
   "outputs": [],
   "source": [
    "print(\"predicted average number of customer purchases over next 30 days:\")\n",
    "ax = sns.distplot(df_rft[\"predict_purch_30\"]).set_xlim(0,2)"
   ]
  },
  {
   "cell_type": "code",
   "execution_count": null,
   "id": "34e2cb56",
   "metadata": {},
   "outputs": [],
   "source": [
    "# helper function: probability of n repeat purchases within t days\n",
    "def prob_purch(t, n):\n",
    "    p = bgf.probability_of_n_purchases_up_to_time(t, n)\n",
    "    return p"
   ]
  },
  {
   "cell_type": "code",
   "execution_count": null,
   "id": "2319b975",
   "metadata": {},
   "outputs": [],
   "source": [
    "# call helper function: probability of n repeat purchases within t days\n",
    "t = 90                  # forecast period, days\n",
    "purch = range(0,10,1)   # number of repeat purchases \n",
    "probs = [prob_purch(t,n) for n in purch]\n",
    "\n",
    "dict_probs = dict(zip(purch, probs))\n",
    "#_ = [print(k,\":\",f'{v:.2f}') for k,v in dict_probs.items()]\n",
    "\n",
    "plt.plot(purch, probs, '-o', color='blue')\n",
    "plt.xlabel(\"avg number of purchases\")\n",
    "plt.ylabel(\"probability\")\n",
    "plt.xticks(purch)\n",
    "plt.show()"
   ]
  },
  {
   "cell_type": "code",
   "execution_count": null,
   "id": "dd56853a",
   "metadata": {},
   "outputs": [],
   "source": [
    "# probability that a customer has not churned (= is alive), based on \n",
    "# customer's specific recency r and frequency f\n",
    "fig = plt.figure(figsize=(7, 7)) \n",
    "plot_probability_alive_matrix(\n",
    "            model = bgf,  \n",
    "            max_frequency = max_freq,  \n",
    "            max_recency = max_rec);"
   ]
  },
  {
   "cell_type": "code",
   "execution_count": null,
   "id": "df4c5cc1",
   "metadata": {},
   "outputs": [],
   "source": [
    "# probability that a customer is alive for each customer in dataframe\n",
    "prob_alive = bgf.conditional_probability_alive(\n",
    "        frequency = df_rft[\"frequency\"], \n",
    "        recency = df_rft[\"recency\"], \n",
    "        T = df_rft[\"T\"])\n",
    "\n",
    "df_rft[\"prob_alive\"] = prob_alive\n",
    "pd.options.display.float_format = '{:,.2f}'.format\n",
    "df_rft.describe()"
   ]
  },
  {
   "cell_type": "code",
   "execution_count": null,
   "id": "46c7d016",
   "metadata": {},
   "outputs": [],
   "source": [
    "df_rft.head()"
   ]
  },
  {
   "cell_type": "code",
   "execution_count": null,
   "id": "b248d7cf",
   "metadata": {},
   "outputs": [],
   "source": [
    "# show customers who are alive, but with less than 90% certainty\n",
    "df_rft[df_rft[\"prob_alive\"] < 0.9]"
   ]
  },
  {
   "cell_type": "code",
   "execution_count": null,
   "id": "45eb0d42",
   "metadata": {},
   "outputs": [],
   "source": [
    "df_rft.to_csv('sas_rfm_pred_purchases.csv')"
   ]
  },
  {
   "cell_type": "code",
   "execution_count": null,
   "id": "b17d2f22",
   "metadata": {},
   "outputs": [],
   "source": [
    "# fitting gamma-gamma model"
   ]
  },
  {
   "cell_type": "code",
   "execution_count": null,
   "id": "b8c49fa4",
   "metadata": {},
   "outputs": [],
   "source": [
    "# select customers with monetary value > 0\n",
    "df_rftv = df_rft[df_rft[\"monetary_value\"] > 0]\n",
    "pd.options.display.float_format = '{:,.2f}'.format\n",
    "df_rftv.describe()"
   ]
  },
  {
   "cell_type": "code",
   "execution_count": null,
   "id": "af1dd986",
   "metadata": {},
   "outputs": [],
   "source": [
    "# Gamma-Gamma model requires a Pearson correlation close to 0 \n",
    "# between purchase frequency and monetary value\n",
    "\n",
    "corr_matrix = df_rftv[[\"monetary_value\", \"frequency\"]].corr()\n",
    "corr = corr_matrix.iloc[1,0]\n",
    "print(\"Pearson correlation: %.3f\" % corr)"
   ]
  },
  {
   "cell_type": "code",
   "execution_count": null,
   "id": "11b61bac",
   "metadata": {},
   "outputs": [],
   "source": [
    "dfx = df_rftv[\"monetary_value\"]\n",
    "dfy = df_rftv[\"frequency\"]\n",
    "plt.scatter(dfx, dfy)"
   ]
  },
  {
   "cell_type": "code",
   "execution_count": null,
   "id": "70e1d3f2",
   "metadata": {},
   "outputs": [],
   "source": [
    "# fitting the Gamma-Gamma model\n",
    "ggf = GammaGammaFitter(penalizer_coef = 1e-06)\n",
    "ggf.fit(\n",
    "        frequency = df_rftv[\"frequency\"],\n",
    "        monetary_value = df_rftv[\"monetary_value\"],  \n",
    "        weights = None,   \n",
    "        verbose = True,  \n",
    "        tol = 1e-06,  \n",
    "        q_constraint = True)\n",
    "pd.options.display.float_format = '{:,.3f}'.format\n",
    "ggf.summary"
   ]
  },
  {
   "cell_type": "code",
   "execution_count": null,
   "id": "a362710d",
   "metadata": {},
   "outputs": [],
   "source": [
    "# estimate the average transaction value of each customer, based on frequency and monetary value\n",
    "exp_avg_rev = ggf.conditional_expected_average_profit(\n",
    "        df_rftv[\"frequency\"],\n",
    "        df_rftv[\"monetary_value\"])\n",
    "\n",
    "df_rftv[\"exp_avg_rev\"] = exp_avg_rev\n",
    "df_rftv[\"avg_rev\"] = df_rftv[\"monetary_value\"]\n",
    "df_rftv[\"error_rev\"] = df_rftv[\"exp_avg_rev\"] - df_rftv[\"avg_rev\"]\n",
    "\n",
    "mape = mean_absolute_percentage_error(exp_avg_rev, df_rftv[\"monetary_value\"])\n",
    "print(\"Mean Absolute Percentage Error of predicted revenues:\", f'{mape:.2f}')\n",
    "\n",
    "pd.options.display.float_format = '{:,.3f}'.format\n",
    "df_rftv.head()"
   ]
  },
  {
   "cell_type": "code",
   "execution_count": null,
   "id": "11953b8c",
   "metadata": {},
   "outputs": [],
   "source": [
    "# compute customer lifetime value\n",
    "DISCOUNT_a = 0.06                # annual discount rate\n",
    "LIFE = 12                        # lifetime expected for the customers in months\n",
    "\n",
    "discount_m = (1 + DISCOUNT_a)**(1/12) - 1     # monthly discount rate\n",
    "\n",
    "clv = ggf.customer_lifetime_value(\n",
    "        transaction_prediction_model = bgf,  \n",
    "        frequency = df_rftv[\"frequency\"],  \n",
    "        recency = df_rftv[\"recency\"],  \n",
    "        T = df_rftv[\"T\"],  \n",
    "        monetary_value = df_rftv[\"monetary_value\"],  \n",
    "        time = LIFE,    \n",
    "        freq = \"D\",                          \n",
    "        discount_rate = discount_m)\n",
    "\n",
    "df_rftv.insert(0, \"CLV\", clv)             # expected customer lifetime values\n",
    "df_rftv.describe().T"
   ]
  },
  {
   "cell_type": "code",
   "execution_count": null,
   "id": "d04abc77",
   "metadata": {},
   "outputs": [],
   "source": [
    "df_rftv.sort_values(by=\"CLV\", ascending=False)"
   ]
  },
  {
   "cell_type": "code",
   "execution_count": null,
   "id": "94b95b32",
   "metadata": {},
   "outputs": [],
   "source": [
    "df_rftv.to_csv('sas_clv_estimates.csv')"
   ]
  },
  {
   "cell_type": "code",
   "execution_count": null,
   "id": "b7aa561a",
   "metadata": {},
   "outputs": [],
   "source": []
  },
  {
   "cell_type": "code",
   "execution_count": null,
   "id": "0d2ed6fc",
   "metadata": {},
   "outputs": [],
   "source": []
  }
 ],
 "metadata": {
  "kernelspec": {
   "display_name": "Python 3 (ipykernel)",
   "language": "python",
   "name": "python3"
  },
  "language_info": {
   "codemirror_mode": {
    "name": "ipython",
    "version": 3
   },
   "file_extension": ".py",
   "mimetype": "text/x-python",
   "name": "python",
   "nbconvert_exporter": "python",
   "pygments_lexer": "ipython3",
   "version": "3.9.10"
  }
 },
 "nbformat": 4,
 "nbformat_minor": 5
}
